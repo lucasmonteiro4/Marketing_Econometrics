{
 "cells": [
  {
   "cell_type": "code",
   "execution_count": 1,
   "metadata": {},
   "outputs": [],
   "source": [
    "import numpy as np\n",
    "import os\n",
    "import pandas as pd\n",
    "from sklearn.tree import DecisionTreeClassifier\n",
    "from sklearn.pipeline import make_pipeline\n",
    "from sklearn.preprocessing import StandardScaler\n",
    "from sklearn.preprocessing import MinMaxScaler\n",
    "from sklearn.ensemble import RandomForestClassifier\n",
    "import seaborn as sns\n",
    "\n",
    "pd.set_option('display.max_columns', 200)"
   ]
  },
  {
   "cell_type": "code",
   "execution_count": 2,
   "metadata": {},
   "outputs": [
    {
     "name": "stderr",
     "output_type": "stream",
     "text": [
      "C:\\ProgUT1\\Anaconda3\\lib\\site-packages\\IPython\\core\\interactiveshell.py:3146: DtypeWarning: Columns (13) have mixed types.Specify dtype option on import or set low_memory=False.\n",
      "  has_raised = await self.run_ast_nodes(code_ast.body, cell_name,\n"
     ]
    }
   ],
   "source": [
    "train = pd.read_csv('Data/Train_transactions.csv')\n",
    "test = pd.read_csv('Data/Test_transactions.csv')\n",
    "y = pd.read_csv('Data/Train_customers_repurchase.csv')"
   ]
  },
  {
   "cell_type": "code",
   "execution_count": 3,
   "metadata": {},
   "outputs": [
    {
     "data": {
      "text/html": [
       "<div>\n",
       "<style scoped>\n",
       "    .dataframe tbody tr th:only-of-type {\n",
       "        vertical-align: middle;\n",
       "    }\n",
       "\n",
       "    .dataframe tbody tr th {\n",
       "        vertical-align: top;\n",
       "    }\n",
       "\n",
       "    .dataframe thead th {\n",
       "        text-align: right;\n",
       "    }\n",
       "</style>\n",
       "<table border=\"1\" class=\"dataframe\">\n",
       "  <thead>\n",
       "    <tr style=\"text-align: right;\">\n",
       "      <th></th>\n",
       "      <th>id_client</th>\n",
       "      <th>transaction_date</th>\n",
       "      <th>stores_nb</th>\n",
       "      <th>item_count</th>\n",
       "      <th>gross_amount</th>\n",
       "      <th>discount_amount</th>\n",
       "      <th>basket_value</th>\n",
       "      <th>payment_gift</th>\n",
       "      <th>payment_cheque</th>\n",
       "      <th>payment_cash</th>\n",
       "      <th>payment_card</th>\n",
       "      <th>email_domain</th>\n",
       "      <th>civility</th>\n",
       "      <th>zip_code</th>\n",
       "      <th>card_subscription</th>\n",
       "      <th>multicard</th>\n",
       "      <th>price_segmentation</th>\n",
       "    </tr>\n",
       "  </thead>\n",
       "  <tbody>\n",
       "    <tr>\n",
       "      <th>0</th>\n",
       "      <td>37520523</td>\n",
       "      <td>2019-12-26T16:44:00.000Z</td>\n",
       "      <td>12015</td>\n",
       "      <td>57</td>\n",
       "      <td>138.69</td>\n",
       "      <td>0.49</td>\n",
       "      <td>138.20</td>\n",
       "      <td>0</td>\n",
       "      <td>0</td>\n",
       "      <td>1</td>\n",
       "      <td>0</td>\n",
       "      <td>NaN</td>\n",
       "      <td>MME</td>\n",
       "      <td>12420</td>\n",
       "      <td>NaN</td>\n",
       "      <td>0.0</td>\n",
       "      <td>NaN</td>\n",
       "    </tr>\n",
       "    <tr>\n",
       "      <th>1</th>\n",
       "      <td>84917629</td>\n",
       "      <td>2019-08-01T12:16:00.000Z</td>\n",
       "      <td>77131</td>\n",
       "      <td>6</td>\n",
       "      <td>9.87</td>\n",
       "      <td>0.00</td>\n",
       "      <td>9.87</td>\n",
       "      <td>0</td>\n",
       "      <td>0</td>\n",
       "      <td>1</td>\n",
       "      <td>0</td>\n",
       "      <td>NaN</td>\n",
       "      <td>MME</td>\n",
       "      <td>77450</td>\n",
       "      <td>NaN</td>\n",
       "      <td>0.0</td>\n",
       "      <td>NaN</td>\n",
       "    </tr>\n",
       "    <tr>\n",
       "      <th>2</th>\n",
       "      <td>20962900</td>\n",
       "      <td>2019-09-25T18:10:00.000Z</td>\n",
       "      <td>92786</td>\n",
       "      <td>6</td>\n",
       "      <td>26.25</td>\n",
       "      <td>2.21</td>\n",
       "      <td>24.04</td>\n",
       "      <td>0</td>\n",
       "      <td>0</td>\n",
       "      <td>0</td>\n",
       "      <td>1</td>\n",
       "      <td>GMAIL.COM</td>\n",
       "      <td>MME</td>\n",
       "      <td>92110</td>\n",
       "      <td>NaN</td>\n",
       "      <td>0.0</td>\n",
       "      <td>Quali</td>\n",
       "    </tr>\n",
       "    <tr>\n",
       "      <th>3</th>\n",
       "      <td>85917543</td>\n",
       "      <td>2020-01-24T17:34:00.000Z</td>\n",
       "      <td>21554</td>\n",
       "      <td>5</td>\n",
       "      <td>15.08</td>\n",
       "      <td>0.00</td>\n",
       "      <td>15.08</td>\n",
       "      <td>0</td>\n",
       "      <td>0</td>\n",
       "      <td>0</td>\n",
       "      <td>1</td>\n",
       "      <td>SFR.FR</td>\n",
       "      <td>M</td>\n",
       "      <td>21130</td>\n",
       "      <td>NaN</td>\n",
       "      <td>0.0</td>\n",
       "      <td>Mixte</td>\n",
       "    </tr>\n",
       "    <tr>\n",
       "      <th>4</th>\n",
       "      <td>6861392</td>\n",
       "      <td>2019-08-22T19:28:00.000Z</td>\n",
       "      <td>83820</td>\n",
       "      <td>25</td>\n",
       "      <td>81.16</td>\n",
       "      <td>30.60</td>\n",
       "      <td>50.56</td>\n",
       "      <td>0</td>\n",
       "      <td>0</td>\n",
       "      <td>0</td>\n",
       "      <td>1</td>\n",
       "      <td>ORANGE.FR</td>\n",
       "      <td>MME</td>\n",
       "      <td>83600</td>\n",
       "      <td>NaN</td>\n",
       "      <td>0.0</td>\n",
       "      <td>Mixte</td>\n",
       "    </tr>\n",
       "  </tbody>\n",
       "</table>\n",
       "</div>"
      ],
      "text/plain": [
       "   id_client          transaction_date  stores_nb  item_count  gross_amount  \\\n",
       "0   37520523  2019-12-26T16:44:00.000Z      12015          57        138.69   \n",
       "1   84917629  2019-08-01T12:16:00.000Z      77131           6          9.87   \n",
       "2   20962900  2019-09-25T18:10:00.000Z      92786           6         26.25   \n",
       "3   85917543  2020-01-24T17:34:00.000Z      21554           5         15.08   \n",
       "4    6861392  2019-08-22T19:28:00.000Z      83820          25         81.16   \n",
       "\n",
       "   discount_amount  basket_value  payment_gift  payment_cheque  payment_cash  \\\n",
       "0             0.49        138.20             0               0             1   \n",
       "1             0.00          9.87             0               0             1   \n",
       "2             2.21         24.04             0               0             0   \n",
       "3             0.00         15.08             0               0             0   \n",
       "4            30.60         50.56             0               0             0   \n",
       "\n",
       "   payment_card email_domain civility zip_code card_subscription  multicard  \\\n",
       "0             0          NaN      MME    12420               NaN        0.0   \n",
       "1             0          NaN      MME    77450               NaN        0.0   \n",
       "2             1    GMAIL.COM      MME    92110               NaN        0.0   \n",
       "3             1       SFR.FR        M    21130               NaN        0.0   \n",
       "4             1    ORANGE.FR      MME    83600               NaN        0.0   \n",
       "\n",
       "  price_segmentation  \n",
       "0                NaN  \n",
       "1                NaN  \n",
       "2              Quali  \n",
       "3              Mixte  \n",
       "4              Mixte  "
      ]
     },
     "execution_count": 3,
     "metadata": {},
     "output_type": "execute_result"
    }
   ],
   "source": [
    "train.head()"
   ]
  },
  {
   "cell_type": "code",
   "execution_count": 4,
   "metadata": {},
   "outputs": [],
   "source": [
    "train['card_sub'] = np.where(train['card_subscription'].isnull(), 0, 1)"
   ]
  },
  {
   "cell_type": "code",
   "execution_count": 5,
   "metadata": {},
   "outputs": [],
   "source": [
    "train.transaction_date = pd.to_datetime(train.transaction_date)"
   ]
  },
  {
   "cell_type": "code",
   "execution_count": 6,
   "metadata": {},
   "outputs": [
    {
     "data": {
      "text/plain": [
       "id_client                           int64\n",
       "transaction_date      datetime64[ns, UTC]\n",
       "stores_nb                           int64\n",
       "item_count                          int64\n",
       "gross_amount                      float64\n",
       "discount_amount                   float64\n",
       "basket_value                      float64\n",
       "payment_gift                        int64\n",
       "payment_cheque                      int64\n",
       "payment_cash                        int64\n",
       "payment_card                        int64\n",
       "email_domain                       object\n",
       "civility                           object\n",
       "zip_code                           object\n",
       "card_subscription                  object\n",
       "multicard                         float64\n",
       "price_segmentation                 object\n",
       "card_sub                            int32\n",
       "dtype: object"
      ]
     },
     "execution_count": 6,
     "metadata": {},
     "output_type": "execute_result"
    }
   ],
   "source": [
    "train.dtypes"
   ]
  },
  {
   "cell_type": "code",
   "execution_count": 7,
   "metadata": {},
   "outputs": [],
   "source": [
    "s = train.transaction_date.max() - train.transaction_date\n",
    "train['last_visit'] = s.dt.days"
   ]
  },
  {
   "cell_type": "code",
   "execution_count": 8,
   "metadata": {},
   "outputs": [],
   "source": [
    "train_ok = (\n",
    "    train\n",
    "    .groupby('id_client')\n",
    "    .agg(\n",
    "        last_visit = ('last_visit', 'min'),\n",
    "        nb_purchases = ('id_client', 'count'),\n",
    "        item_count = ('item_count', 'mean'),\n",
    "        gross_amount = ('gross_amount', 'mean'),\n",
    "        discount_amount = ('discount_amount', 'mean'),\n",
    "        basket_value = ('basket_value', 'mean'),\n",
    "        payment_gift = ('payment_gift', 'mean'),\n",
    "        payment_cheque = ('payment_cheque', 'mean'),\n",
    "        payment_cash = ('payment_cash', 'mean'),\n",
    "        payment_card = ('payment_card', 'mean'),\n",
    "        card_sub = ('card_sub', 'max')\n",
    "    )\n",
    ")"
   ]
  },
  {
   "cell_type": "code",
   "execution_count": 9,
   "metadata": {},
   "outputs": [
    {
     "data": {
      "text/html": [
       "<div>\n",
       "<style scoped>\n",
       "    .dataframe tbody tr th:only-of-type {\n",
       "        vertical-align: middle;\n",
       "    }\n",
       "\n",
       "    .dataframe tbody tr th {\n",
       "        vertical-align: top;\n",
       "    }\n",
       "\n",
       "    .dataframe thead th {\n",
       "        text-align: right;\n",
       "    }\n",
       "</style>\n",
       "<table border=\"1\" class=\"dataframe\">\n",
       "  <thead>\n",
       "    <tr style=\"text-align: right;\">\n",
       "      <th></th>\n",
       "      <th>last_visit</th>\n",
       "      <th>nb_purchases</th>\n",
       "      <th>item_count</th>\n",
       "      <th>gross_amount</th>\n",
       "      <th>discount_amount</th>\n",
       "      <th>basket_value</th>\n",
       "      <th>payment_gift</th>\n",
       "      <th>payment_cheque</th>\n",
       "      <th>payment_cash</th>\n",
       "      <th>payment_card</th>\n",
       "      <th>card_sub</th>\n",
       "    </tr>\n",
       "    <tr>\n",
       "      <th>id_client</th>\n",
       "      <th></th>\n",
       "      <th></th>\n",
       "      <th></th>\n",
       "      <th></th>\n",
       "      <th></th>\n",
       "      <th></th>\n",
       "      <th></th>\n",
       "      <th></th>\n",
       "      <th></th>\n",
       "      <th></th>\n",
       "      <th></th>\n",
       "    </tr>\n",
       "  </thead>\n",
       "  <tbody>\n",
       "    <tr>\n",
       "      <th>291</th>\n",
       "      <td>0</td>\n",
       "      <td>55</td>\n",
       "      <td>27.254545</td>\n",
       "      <td>75.480545</td>\n",
       "      <td>2.181636</td>\n",
       "      <td>73.298909</td>\n",
       "      <td>0.090909</td>\n",
       "      <td>0.0</td>\n",
       "      <td>0.000000</td>\n",
       "      <td>1.000000</td>\n",
       "      <td>0</td>\n",
       "    </tr>\n",
       "    <tr>\n",
       "      <th>365</th>\n",
       "      <td>52</td>\n",
       "      <td>25</td>\n",
       "      <td>5.600000</td>\n",
       "      <td>15.602000</td>\n",
       "      <td>0.078800</td>\n",
       "      <td>15.523200</td>\n",
       "      <td>0.040000</td>\n",
       "      <td>0.0</td>\n",
       "      <td>0.440000</td>\n",
       "      <td>0.560000</td>\n",
       "      <td>0</td>\n",
       "    </tr>\n",
       "    <tr>\n",
       "      <th>1800</th>\n",
       "      <td>6</td>\n",
       "      <td>78</td>\n",
       "      <td>25.141026</td>\n",
       "      <td>101.286282</td>\n",
       "      <td>11.272179</td>\n",
       "      <td>90.014103</td>\n",
       "      <td>0.269231</td>\n",
       "      <td>0.0</td>\n",
       "      <td>0.038462</td>\n",
       "      <td>0.961538</td>\n",
       "      <td>0</td>\n",
       "    </tr>\n",
       "    <tr>\n",
       "      <th>3471</th>\n",
       "      <td>139</td>\n",
       "      <td>60</td>\n",
       "      <td>6.766667</td>\n",
       "      <td>20.062667</td>\n",
       "      <td>0.142167</td>\n",
       "      <td>19.920500</td>\n",
       "      <td>0.000000</td>\n",
       "      <td>0.0</td>\n",
       "      <td>0.883333</td>\n",
       "      <td>0.116667</td>\n",
       "      <td>0</td>\n",
       "    </tr>\n",
       "    <tr>\n",
       "      <th>3961</th>\n",
       "      <td>310</td>\n",
       "      <td>3</td>\n",
       "      <td>43.666667</td>\n",
       "      <td>138.446667</td>\n",
       "      <td>0.540000</td>\n",
       "      <td>137.906667</td>\n",
       "      <td>0.000000</td>\n",
       "      <td>0.0</td>\n",
       "      <td>0.333333</td>\n",
       "      <td>0.666667</td>\n",
       "      <td>0</td>\n",
       "    </tr>\n",
       "  </tbody>\n",
       "</table>\n",
       "</div>"
      ],
      "text/plain": [
       "           last_visit  nb_purchases  item_count  gross_amount  \\\n",
       "id_client                                                       \n",
       "291                 0            55   27.254545     75.480545   \n",
       "365                52            25    5.600000     15.602000   \n",
       "1800                6            78   25.141026    101.286282   \n",
       "3471              139            60    6.766667     20.062667   \n",
       "3961              310             3   43.666667    138.446667   \n",
       "\n",
       "           discount_amount  basket_value  payment_gift  payment_cheque  \\\n",
       "id_client                                                                \n",
       "291               2.181636     73.298909      0.090909             0.0   \n",
       "365               0.078800     15.523200      0.040000             0.0   \n",
       "1800             11.272179     90.014103      0.269231             0.0   \n",
       "3471              0.142167     19.920500      0.000000             0.0   \n",
       "3961              0.540000    137.906667      0.000000             0.0   \n",
       "\n",
       "           payment_cash  payment_card  card_sub  \n",
       "id_client                                        \n",
       "291            0.000000      1.000000         0  \n",
       "365            0.440000      0.560000         0  \n",
       "1800           0.038462      0.961538         0  \n",
       "3471           0.883333      0.116667         0  \n",
       "3961           0.333333      0.666667         0  "
      ]
     },
     "execution_count": 9,
     "metadata": {},
     "output_type": "execute_result"
    }
   ],
   "source": [
    "train_ok.head()"
   ]
  },
  {
   "cell_type": "code",
   "execution_count": 16,
   "metadata": {},
   "outputs": [
    {
     "data": {
      "text/plain": [
       "[(0.0, 250.0)]"
      ]
     },
     "execution_count": 16,
     "metadata": {},
     "output_type": "execute_result"
    },
    {
     "data": {
      "image/png": "[encoded data removed]",
      "text/plain": [
       "<Figure size 432x288 with 1 Axes>"
      ]
     },
     "metadata": {
      "needs_background": "light"
     },
     "output_type": "display_data"
    }
   ],
   "source": [
    "g = sns.kdeplot(data=train_ok, x=\"nb_purchases\", hue=\"card_sub\", cut=0, fill=False, common_norm=False, alpha=1, palette=\"Set2\")\n",
    "g.set(xlim=(0, 250))"
   ]
  },
  {
   "cell_type": "code",
   "execution_count": 20,
   "metadata": {},
   "outputs": [
    {
     "data": {
      "text/plain": [
       "[(0.0, 350.0)]"
      ]
     },
     "execution_count": 20,
     "metadata": {},
     "output_type": "execute_result"
    },
    {
     "data": {
      "image/png": "[encoded data removed]",
      "text/plain": [
       "<Figure size 432x288 with 1 Axes>"
      ]
     },
     "metadata": {
      "needs_background": "light"
     },
     "output_type": "display_data"
    }
   ],
   "source": [
    "g = sns.kdeplot(data=train_ok, x=\"basket_value\", hue=\"card_sub\", cut=0, fill=False, common_norm=False, alpha=1, palette=\"Set2\")\n",
    "g.set(xlim=(0, 350))"
   ]
  },
  {
   "cell_type": "code",
   "execution_count": 56,
   "metadata": {},
   "outputs": [
    {
     "data": {
      "text/plain": [
       "<AxesSubplot:xlabel='card_sub', ylabel='basket_value'>"
      ]
     },
     "execution_count": 56,
     "metadata": {},
     "output_type": "execute_result"
    },
    {
     "data": {
      "image/png": "[encoded data removed]",
      "text/plain": [
       "<Figure size 432x288 with 1 Axes>"
      ]
     },
     "metadata": {
      "needs_background": "light"
     },
     "output_type": "display_data"
    }
   ],
   "source": [
    "sns.barplot(data=train_ok, x=\"card_sub\", y=\"basket_value\")"
   ]
  },
  {
   "cell_type": "code",
   "execution_count": 21,
   "metadata": {},
   "outputs": [
    {
     "data": {
      "text/html": [
       "<div>\n",
       "<style scoped>\n",
       "    .dataframe tbody tr th:only-of-type {\n",
       "        vertical-align: middle;\n",
       "    }\n",
       "\n",
       "    .dataframe tbody tr th {\n",
       "        vertical-align: top;\n",
       "    }\n",
       "\n",
       "    .dataframe thead th {\n",
       "        text-align: right;\n",
       "    }\n",
       "</style>\n",
       "<table border=\"1\" class=\"dataframe\">\n",
       "  <thead>\n",
       "    <tr style=\"text-align: right;\">\n",
       "      <th></th>\n",
       "      <th>last_visit</th>\n",
       "      <th>nb_purchases</th>\n",
       "      <th>item_count</th>\n",
       "      <th>gross_amount</th>\n",
       "      <th>discount_amount</th>\n",
       "      <th>basket_value</th>\n",
       "      <th>payment_gift</th>\n",
       "      <th>payment_cheque</th>\n",
       "      <th>payment_cash</th>\n",
       "      <th>payment_card</th>\n",
       "    </tr>\n",
       "    <tr>\n",
       "      <th>card_sub</th>\n",
       "      <th></th>\n",
       "      <th></th>\n",
       "      <th></th>\n",
       "      <th></th>\n",
       "      <th></th>\n",
       "      <th></th>\n",
       "      <th></th>\n",
       "      <th></th>\n",
       "      <th></th>\n",
       "      <th></th>\n",
       "    </tr>\n",
       "  </thead>\n",
       "  <tbody>\n",
       "    <tr>\n",
       "      <th>0</th>\n",
       "      <td>155470</td>\n",
       "      <td>155470</td>\n",
       "      <td>155470</td>\n",
       "      <td>155470</td>\n",
       "      <td>155470</td>\n",
       "      <td>155470</td>\n",
       "      <td>155470</td>\n",
       "      <td>155470</td>\n",
       "      <td>155470</td>\n",
       "      <td>155470</td>\n",
       "    </tr>\n",
       "    <tr>\n",
       "      <th>1</th>\n",
       "      <td>4954</td>\n",
       "      <td>4954</td>\n",
       "      <td>4954</td>\n",
       "      <td>4954</td>\n",
       "      <td>4954</td>\n",
       "      <td>4954</td>\n",
       "      <td>4954</td>\n",
       "      <td>4954</td>\n",
       "      <td>4954</td>\n",
       "      <td>4954</td>\n",
       "    </tr>\n",
       "  </tbody>\n",
       "</table>\n",
       "</div>"
      ],
      "text/plain": [
       "          last_visit  nb_purchases  item_count  gross_amount  discount_amount  \\\n",
       "card_sub                                                                        \n",
       "0             155470        155470      155470        155470           155470   \n",
       "1               4954          4954        4954          4954             4954   \n",
       "\n",
       "          basket_value  payment_gift  payment_cheque  payment_cash  \\\n",
       "card_sub                                                             \n",
       "0               155470        155470          155470        155470   \n",
       "1                 4954          4954            4954          4954   \n",
       "\n",
       "          payment_card  \n",
       "card_sub                \n",
       "0               155470  \n",
       "1                 4954  "
      ]
     },
     "execution_count": 21,
     "metadata": {},
     "output_type": "execute_result"
    }
   ],
   "source": [
    "train_ok.groupby('card_sub').count()"
   ]
  },
  {
   "cell_type": "code",
   "execution_count": 22,
   "metadata": {},
   "outputs": [],
   "source": [
    "train_ok = train_ok.fillna(0)"
   ]
  },
  {
   "cell_type": "code",
   "execution_count": 23,
   "metadata": {},
   "outputs": [],
   "source": [
    "cible = y.sort_values('id_client')['repurchase']"
   ]
  },
  {
   "cell_type": "code",
   "execution_count": 24,
   "metadata": {},
   "outputs": [],
   "source": [
    "test['card_sub'] = np.where(test['card_subscription'].isnull(), 0, 1)\n",
    "\n",
    "test.transaction_date = pd.to_datetime(test.transaction_date).dt.date\n",
    "\n",
    "s = test.transaction_date.max() - test.transaction_date\n",
    "test['last_visit'] = s.dt.days\n",
    "\n",
    "test_ok = (\n",
    "    test\n",
    "    .groupby('id_client')\n",
    "    .agg(\n",
    "        last_visit = ('last_visit', 'min'),\n",
    "        nb_purchases = ('id_client', 'count'),\n",
    "        item_count = ('item_count', 'mean'),\n",
    "        gross_amount = ('gross_amount', 'mean'),\n",
    "        discount_amount = ('discount_amount', 'mean'),\n",
    "        basket_value = ('basket_value', 'mean'),\n",
    "        payment_gift = ('payment_gift', 'mean'),\n",
    "        payment_cheque = ('payment_cheque', 'mean'),\n",
    "        payment_cash = ('payment_cash', 'mean'),\n",
    "        payment_card = ('payment_card', 'mean'),\n",
    "        card_sub = ('card_sub', 'max')\n",
    "    )\n",
    ")"
   ]
  },
  {
   "cell_type": "code",
   "execution_count": 25,
   "metadata": {},
   "outputs": [
    {
     "data": {
      "text/html": [
       "<div>\n",
       "<style scoped>\n",
       "    .dataframe tbody tr th:only-of-type {\n",
       "        vertical-align: middle;\n",
       "    }\n",
       "\n",
       "    .dataframe tbody tr th {\n",
       "        vertical-align: top;\n",
       "    }\n",
       "\n",
       "    .dataframe thead th {\n",
       "        text-align: right;\n",
       "    }\n",
       "</style>\n",
       "<table border=\"1\" class=\"dataframe\">\n",
       "  <thead>\n",
       "    <tr style=\"text-align: right;\">\n",
       "      <th></th>\n",
       "      <th>last_visit</th>\n",
       "      <th>nb_purchases</th>\n",
       "      <th>item_count</th>\n",
       "      <th>gross_amount</th>\n",
       "      <th>discount_amount</th>\n",
       "      <th>basket_value</th>\n",
       "      <th>payment_gift</th>\n",
       "      <th>payment_cheque</th>\n",
       "      <th>payment_cash</th>\n",
       "      <th>payment_card</th>\n",
       "      <th>card_sub</th>\n",
       "    </tr>\n",
       "    <tr>\n",
       "      <th>id_client</th>\n",
       "      <th></th>\n",
       "      <th></th>\n",
       "      <th></th>\n",
       "      <th></th>\n",
       "      <th></th>\n",
       "      <th></th>\n",
       "      <th></th>\n",
       "      <th></th>\n",
       "      <th></th>\n",
       "      <th></th>\n",
       "      <th></th>\n",
       "    </tr>\n",
       "  </thead>\n",
       "  <tbody>\n",
       "    <tr>\n",
       "      <th>2098</th>\n",
       "      <td>8</td>\n",
       "      <td>36</td>\n",
       "      <td>16.027778</td>\n",
       "      <td>47.153889</td>\n",
       "      <td>1.471667</td>\n",
       "      <td>45.682222</td>\n",
       "      <td>0.166667</td>\n",
       "      <td>0.083333</td>\n",
       "      <td>0.194444</td>\n",
       "      <td>0.722222</td>\n",
       "      <td>0</td>\n",
       "    </tr>\n",
       "    <tr>\n",
       "      <th>3399</th>\n",
       "      <td>0</td>\n",
       "      <td>103</td>\n",
       "      <td>13.320388</td>\n",
       "      <td>41.607476</td>\n",
       "      <td>0.554466</td>\n",
       "      <td>41.053010</td>\n",
       "      <td>0.009709</td>\n",
       "      <td>0.155340</td>\n",
       "      <td>0.077670</td>\n",
       "      <td>0.786408</td>\n",
       "      <td>0</td>\n",
       "    </tr>\n",
       "    <tr>\n",
       "      <th>3712</th>\n",
       "      <td>2</td>\n",
       "      <td>80</td>\n",
       "      <td>10.425000</td>\n",
       "      <td>27.929625</td>\n",
       "      <td>2.447250</td>\n",
       "      <td>25.482375</td>\n",
       "      <td>0.012500</td>\n",
       "      <td>0.000000</td>\n",
       "      <td>0.012500</td>\n",
       "      <td>0.925000</td>\n",
       "      <td>0</td>\n",
       "    </tr>\n",
       "    <tr>\n",
       "      <th>4664</th>\n",
       "      <td>3</td>\n",
       "      <td>51</td>\n",
       "      <td>15.470588</td>\n",
       "      <td>39.142745</td>\n",
       "      <td>0.985686</td>\n",
       "      <td>38.157059</td>\n",
       "      <td>0.039216</td>\n",
       "      <td>0.980392</td>\n",
       "      <td>0.019608</td>\n",
       "      <td>0.000000</td>\n",
       "      <td>0</td>\n",
       "    </tr>\n",
       "    <tr>\n",
       "      <th>6741</th>\n",
       "      <td>142</td>\n",
       "      <td>17</td>\n",
       "      <td>23.000000</td>\n",
       "      <td>69.735294</td>\n",
       "      <td>0.058824</td>\n",
       "      <td>69.676471</td>\n",
       "      <td>0.000000</td>\n",
       "      <td>0.941176</td>\n",
       "      <td>0.000000</td>\n",
       "      <td>0.058824</td>\n",
       "      <td>0</td>\n",
       "    </tr>\n",
       "  </tbody>\n",
       "</table>\n",
       "</div>"
      ],
      "text/plain": [
       "           last_visit  nb_purchases  item_count  gross_amount  \\\n",
       "id_client                                                       \n",
       "2098                8            36   16.027778     47.153889   \n",
       "3399                0           103   13.320388     41.607476   \n",
       "3712                2            80   10.425000     27.929625   \n",
       "4664                3            51   15.470588     39.142745   \n",
       "6741              142            17   23.000000     69.735294   \n",
       "\n",
       "           discount_amount  basket_value  payment_gift  payment_cheque  \\\n",
       "id_client                                                                \n",
       "2098              1.471667     45.682222      0.166667        0.083333   \n",
       "3399              0.554466     41.053010      0.009709        0.155340   \n",
       "3712              2.447250     25.482375      0.012500        0.000000   \n",
       "4664              0.985686     38.157059      0.039216        0.980392   \n",
       "6741              0.058824     69.676471      0.000000        0.941176   \n",
       "\n",
       "           payment_cash  payment_card  card_sub  \n",
       "id_client                                        \n",
       "2098           0.194444      0.722222         0  \n",
       "3399           0.077670      0.786408         0  \n",
       "3712           0.012500      0.925000         0  \n",
       "4664           0.019608      0.000000         0  \n",
       "6741           0.000000      0.058824         0  "
      ]
     },
     "execution_count": 25,
     "metadata": {},
     "output_type": "execute_result"
    }
   ],
   "source": [
    "test_ok.head()"
   ]
  },
  {
   "cell_type": "code",
   "execution_count": 26,
   "metadata": {},
   "outputs": [],
   "source": [
    "test_ok = test_ok.fillna(0)"
   ]
  },
  {
   "cell_type": "code",
   "execution_count": 27,
   "metadata": {},
   "outputs": [
    {
     "data": {
      "text/html": [
       "<div>\n",
       "<style scoped>\n",
       "    .dataframe tbody tr th:only-of-type {\n",
       "        vertical-align: middle;\n",
       "    }\n",
       "\n",
       "    .dataframe tbody tr th {\n",
       "        vertical-align: top;\n",
       "    }\n",
       "\n",
       "    .dataframe thead th {\n",
       "        text-align: right;\n",
       "    }\n",
       "</style>\n",
       "<table border=\"1\" class=\"dataframe\">\n",
       "  <thead>\n",
       "    <tr style=\"text-align: right;\">\n",
       "      <th></th>\n",
       "      <th>last_visit</th>\n",
       "      <th>nb_purchases</th>\n",
       "      <th>item_count</th>\n",
       "      <th>gross_amount</th>\n",
       "      <th>discount_amount</th>\n",
       "      <th>basket_value</th>\n",
       "      <th>payment_gift</th>\n",
       "      <th>payment_cheque</th>\n",
       "      <th>payment_cash</th>\n",
       "      <th>payment_card</th>\n",
       "    </tr>\n",
       "    <tr>\n",
       "      <th>card_sub</th>\n",
       "      <th></th>\n",
       "      <th></th>\n",
       "      <th></th>\n",
       "      <th></th>\n",
       "      <th></th>\n",
       "      <th></th>\n",
       "      <th></th>\n",
       "      <th></th>\n",
       "      <th></th>\n",
       "      <th></th>\n",
       "    </tr>\n",
       "  </thead>\n",
       "  <tbody>\n",
       "    <tr>\n",
       "      <th>0</th>\n",
       "      <td>38898</td>\n",
       "      <td>38898</td>\n",
       "      <td>38898</td>\n",
       "      <td>38898</td>\n",
       "      <td>38898</td>\n",
       "      <td>38898</td>\n",
       "      <td>38898</td>\n",
       "      <td>38898</td>\n",
       "      <td>38898</td>\n",
       "      <td>38898</td>\n",
       "    </tr>\n",
       "    <tr>\n",
       "      <th>1</th>\n",
       "      <td>1208</td>\n",
       "      <td>1208</td>\n",
       "      <td>1208</td>\n",
       "      <td>1208</td>\n",
       "      <td>1208</td>\n",
       "      <td>1208</td>\n",
       "      <td>1208</td>\n",
       "      <td>1208</td>\n",
       "      <td>1208</td>\n",
       "      <td>1208</td>\n",
       "    </tr>\n",
       "  </tbody>\n",
       "</table>\n",
       "</div>"
      ],
      "text/plain": [
       "          last_visit  nb_purchases  item_count  gross_amount  discount_amount  \\\n",
       "card_sub                                                                        \n",
       "0              38898         38898       38898         38898            38898   \n",
       "1               1208          1208        1208          1208             1208   \n",
       "\n",
       "          basket_value  payment_gift  payment_cheque  payment_cash  \\\n",
       "card_sub                                                             \n",
       "0                38898         38898           38898         38898   \n",
       "1                 1208          1208            1208          1208   \n",
       "\n",
       "          payment_card  \n",
       "card_sub                \n",
       "0                38898  \n",
       "1                 1208  "
      ]
     },
     "execution_count": 27,
     "metadata": {},
     "output_type": "execute_result"
    }
   ],
   "source": [
    "test_ok.groupby('card_sub').count()"
   ]
  },
  {
   "cell_type": "code",
   "execution_count": 28,
   "metadata": {},
   "outputs": [],
   "source": [
    "train_ok_std = train_ok.copy()"
   ]
  },
  {
   "cell_type": "code",
   "execution_count": 29,
   "metadata": {},
   "outputs": [],
   "source": [
    "train_ok_std[['last_visit', 'nb_purchases', 'item_count', 'gross_amount', 'discount_amount', 'basket_value', 'payment_gift', 'payment_cheque', 'payment_cash', 'payment_card']] = StandardScaler().fit_transform(train_ok[['last_visit', 'nb_purchases', 'item_count', 'gross_amount', 'discount_amount', 'basket_value', 'payment_gift', 'payment_cheque', 'payment_cash', 'payment_card']])"
   ]
  },
  {
   "cell_type": "code",
   "execution_count": 30,
   "metadata": {},
   "outputs": [
    {
     "data": {
      "text/html": [
       "<div>\n",
       "<style scoped>\n",
       "    .dataframe tbody tr th:only-of-type {\n",
       "        vertical-align: middle;\n",
       "    }\n",
       "\n",
       "    .dataframe tbody tr th {\n",
       "        vertical-align: top;\n",
       "    }\n",
       "\n",
       "    .dataframe thead th {\n",
       "        text-align: right;\n",
       "    }\n",
       "</style>\n",
       "<table border=\"1\" class=\"dataframe\">\n",
       "  <thead>\n",
       "    <tr style=\"text-align: right;\">\n",
       "      <th></th>\n",
       "      <th>last_visit</th>\n",
       "      <th>nb_purchases</th>\n",
       "      <th>item_count</th>\n",
       "      <th>gross_amount</th>\n",
       "      <th>discount_amount</th>\n",
       "      <th>basket_value</th>\n",
       "      <th>payment_gift</th>\n",
       "      <th>payment_cheque</th>\n",
       "      <th>payment_cash</th>\n",
       "      <th>payment_card</th>\n",
       "      <th>card_sub</th>\n",
       "    </tr>\n",
       "    <tr>\n",
       "      <th>id_client</th>\n",
       "      <th></th>\n",
       "      <th></th>\n",
       "      <th></th>\n",
       "      <th></th>\n",
       "      <th></th>\n",
       "      <th></th>\n",
       "      <th></th>\n",
       "      <th></th>\n",
       "      <th></th>\n",
       "      <th></th>\n",
       "      <th></th>\n",
       "    </tr>\n",
       "  </thead>\n",
       "  <tbody>\n",
       "    <tr>\n",
       "      <th>291</th>\n",
       "      <td>-0.911353</td>\n",
       "      <td>0.955822</td>\n",
       "      <td>0.808527</td>\n",
       "      <td>0.376474</td>\n",
       "      <td>-0.080622</td>\n",
       "      <td>0.426741</td>\n",
       "      <td>0.325085</td>\n",
       "      <td>-0.23284</td>\n",
       "      <td>-0.684834</td>\n",
       "      <td>0.824279</td>\n",
       "      <td>0</td>\n",
       "    </tr>\n",
       "    <tr>\n",
       "      <th>365</th>\n",
       "      <td>-0.437100</td>\n",
       "      <td>0.123161</td>\n",
       "      <td>-0.759533</td>\n",
       "      <td>-0.707689</td>\n",
       "      <td>-0.324150</td>\n",
       "      <td>-0.720608</td>\n",
       "      <td>-0.093335</td>\n",
       "      <td>-0.23284</td>\n",
       "      <td>0.672579</td>\n",
       "      <td>-0.385671</td>\n",
       "      <td>0</td>\n",
       "    </tr>\n",
       "    <tr>\n",
       "      <th>1800</th>\n",
       "      <td>-0.856632</td>\n",
       "      <td>1.594196</td>\n",
       "      <td>0.655482</td>\n",
       "      <td>0.843714</td>\n",
       "      <td>0.972147</td>\n",
       "      <td>0.758683</td>\n",
       "      <td>1.790706</td>\n",
       "      <td>-0.23284</td>\n",
       "      <td>-0.566179</td>\n",
       "      <td>0.718514</td>\n",
       "      <td>0</td>\n",
       "    </tr>\n",
       "    <tr>\n",
       "      <th>3471</th>\n",
       "      <td>0.356361</td>\n",
       "      <td>1.094599</td>\n",
       "      <td>-0.675051</td>\n",
       "      <td>-0.626924</td>\n",
       "      <td>-0.316812</td>\n",
       "      <td>-0.633283</td>\n",
       "      <td>-0.422094</td>\n",
       "      <td>-0.23284</td>\n",
       "      <td>2.040274</td>\n",
       "      <td>-1.604787</td>\n",
       "      <td>0</td>\n",
       "    </tr>\n",
       "    <tr>\n",
       "      <th>3961</th>\n",
       "      <td>1.915924</td>\n",
       "      <td>-0.487457</td>\n",
       "      <td>1.996969</td>\n",
       "      <td>1.516542</td>\n",
       "      <td>-0.270739</td>\n",
       "      <td>1.709765</td>\n",
       "      <td>-0.422094</td>\n",
       "      <td>-0.23284</td>\n",
       "      <td>0.343509</td>\n",
       "      <td>-0.092350</td>\n",
       "      <td>0</td>\n",
       "    </tr>\n",
       "  </tbody>\n",
       "</table>\n",
       "</div>"
      ],
      "text/plain": [
       "           last_visit  nb_purchases  item_count  gross_amount  \\\n",
       "id_client                                                       \n",
       "291         -0.911353      0.955822    0.808527      0.376474   \n",
       "365         -0.437100      0.123161   -0.759533     -0.707689   \n",
       "1800        -0.856632      1.594196    0.655482      0.843714   \n",
       "3471         0.356361      1.094599   -0.675051     -0.626924   \n",
       "3961         1.915924     -0.487457    1.996969      1.516542   \n",
       "\n",
       "           discount_amount  basket_value  payment_gift  payment_cheque  \\\n",
       "id_client                                                                \n",
       "291              -0.080622      0.426741      0.325085        -0.23284   \n",
       "365              -0.324150     -0.720608     -0.093335        -0.23284   \n",
       "1800              0.972147      0.758683      1.790706        -0.23284   \n",
       "3471             -0.316812     -0.633283     -0.422094        -0.23284   \n",
       "3961             -0.270739      1.709765     -0.422094        -0.23284   \n",
       "\n",
       "           payment_cash  payment_card  card_sub  \n",
       "id_client                                        \n",
       "291           -0.684834      0.824279         0  \n",
       "365            0.672579     -0.385671         0  \n",
       "1800          -0.566179      0.718514         0  \n",
       "3471           2.040274     -1.604787         0  \n",
       "3961           0.343509     -0.092350         0  "
      ]
     },
     "execution_count": 30,
     "metadata": {},
     "output_type": "execute_result"
    }
   ],
   "source": [
    "train_ok_std.head()"
   ]
  },
  {
   "cell_type": "code",
   "execution_count": 31,
   "metadata": {},
   "outputs": [],
   "source": [
    "test_ok_std = test_ok.copy()"
   ]
  },
  {
   "cell_type": "code",
   "execution_count": 32,
   "metadata": {},
   "outputs": [],
   "source": [
    "test_ok_std[['last_visit', 'nb_purchases', 'item_count', 'gross_amount', 'discount_amount', 'basket_value', 'payment_gift', 'payment_cheque', 'payment_cash', 'payment_card']] = StandardScaler().fit_transform(test_ok[['last_visit', 'nb_purchases', 'item_count', 'gross_amount', 'discount_amount', 'basket_value', 'payment_gift', 'payment_cheque', 'payment_cash', 'payment_card',]])"
   ]
  },
  {
   "cell_type": "code",
   "execution_count": 33,
   "metadata": {},
   "outputs": [
    {
     "data": {
      "text/html": [
       "<div>\n",
       "<style scoped>\n",
       "    .dataframe tbody tr th:only-of-type {\n",
       "        vertical-align: middle;\n",
       "    }\n",
       "\n",
       "    .dataframe tbody tr th {\n",
       "        vertical-align: top;\n",
       "    }\n",
       "\n",
       "    .dataframe thead th {\n",
       "        text-align: right;\n",
       "    }\n",
       "</style>\n",
       "<table border=\"1\" class=\"dataframe\">\n",
       "  <thead>\n",
       "    <tr style=\"text-align: right;\">\n",
       "      <th></th>\n",
       "      <th>last_visit</th>\n",
       "      <th>nb_purchases</th>\n",
       "      <th>item_count</th>\n",
       "      <th>gross_amount</th>\n",
       "      <th>discount_amount</th>\n",
       "      <th>basket_value</th>\n",
       "      <th>payment_gift</th>\n",
       "      <th>payment_cheque</th>\n",
       "      <th>payment_cash</th>\n",
       "      <th>payment_card</th>\n",
       "      <th>card_sub</th>\n",
       "    </tr>\n",
       "    <tr>\n",
       "      <th>id_client</th>\n",
       "      <th></th>\n",
       "      <th></th>\n",
       "      <th></th>\n",
       "      <th></th>\n",
       "      <th></th>\n",
       "      <th></th>\n",
       "      <th></th>\n",
       "      <th></th>\n",
       "      <th></th>\n",
       "      <th></th>\n",
       "      <th></th>\n",
       "    </tr>\n",
       "  </thead>\n",
       "  <tbody>\n",
       "    <tr>\n",
       "      <th>2098</th>\n",
       "      <td>-0.838680</td>\n",
       "      <td>0.411807</td>\n",
       "      <td>-0.002375</td>\n",
       "      <td>-0.139249</td>\n",
       "      <td>-0.188236</td>\n",
       "      <td>-0.122414</td>\n",
       "      <td>0.939308</td>\n",
       "      <td>0.361129</td>\n",
       "      <td>-0.082761</td>\n",
       "      <td>0.060025</td>\n",
       "      <td>0</td>\n",
       "    </tr>\n",
       "    <tr>\n",
       "      <th>3399</th>\n",
       "      <td>-0.911794</td>\n",
       "      <td>2.197936</td>\n",
       "      <td>-0.197185</td>\n",
       "      <td>-0.240892</td>\n",
       "      <td>-0.310766</td>\n",
       "      <td>-0.213970</td>\n",
       "      <td>-0.343706</td>\n",
       "      <td>0.873919</td>\n",
       "      <td>-0.442967</td>\n",
       "      <td>0.236602</td>\n",
       "      <td>0</td>\n",
       "    </tr>\n",
       "    <tr>\n",
       "      <th>3712</th>\n",
       "      <td>-0.893515</td>\n",
       "      <td>1.584787</td>\n",
       "      <td>-0.405521</td>\n",
       "      <td>-0.491552</td>\n",
       "      <td>-0.057906</td>\n",
       "      <td>-0.521925</td>\n",
       "      <td>-0.320889</td>\n",
       "      <td>-0.232324</td>\n",
       "      <td>-0.643992</td>\n",
       "      <td>0.617875</td>\n",
       "      <td>0</td>\n",
       "    </tr>\n",
       "    <tr>\n",
       "      <th>4664</th>\n",
       "      <td>-0.884376</td>\n",
       "      <td>0.811687</td>\n",
       "      <td>-0.042468</td>\n",
       "      <td>-0.286061</td>\n",
       "      <td>-0.253159</td>\n",
       "      <td>-0.271246</td>\n",
       "      <td>-0.102508</td>\n",
       "      <td>6.749482</td>\n",
       "      <td>-0.622067</td>\n",
       "      <td>-1.926839</td>\n",
       "      <td>0</td>\n",
       "    </tr>\n",
       "    <tr>\n",
       "      <th>6741</th>\n",
       "      <td>0.385980</td>\n",
       "      <td>-0.094707</td>\n",
       "      <td>0.499309</td>\n",
       "      <td>0.274577</td>\n",
       "      <td>-0.376980</td>\n",
       "      <td>0.352142</td>\n",
       "      <td>-0.423067</td>\n",
       "      <td>6.470210</td>\n",
       "      <td>-0.682550</td>\n",
       "      <td>-1.765013</td>\n",
       "      <td>0</td>\n",
       "    </tr>\n",
       "  </tbody>\n",
       "</table>\n",
       "</div>"
      ],
      "text/plain": [
       "           last_visit  nb_purchases  item_count  gross_amount  \\\n",
       "id_client                                                       \n",
       "2098        -0.838680      0.411807   -0.002375     -0.139249   \n",
       "3399        -0.911794      2.197936   -0.197185     -0.240892   \n",
       "3712        -0.893515      1.584787   -0.405521     -0.491552   \n",
       "4664        -0.884376      0.811687   -0.042468     -0.286061   \n",
       "6741         0.385980     -0.094707    0.499309      0.274577   \n",
       "\n",
       "           discount_amount  basket_value  payment_gift  payment_cheque  \\\n",
       "id_client                                                                \n",
       "2098             -0.188236     -0.122414      0.939308        0.361129   \n",
       "3399             -0.310766     -0.213970     -0.343706        0.873919   \n",
       "3712             -0.057906     -0.521925     -0.320889       -0.232324   \n",
       "4664             -0.253159     -0.271246     -0.102508        6.749482   \n",
       "6741             -0.376980      0.352142     -0.423067        6.470210   \n",
       "\n",
       "           payment_cash  payment_card  card_sub  \n",
       "id_client                                        \n",
       "2098          -0.082761      0.060025         0  \n",
       "3399          -0.442967      0.236602         0  \n",
       "3712          -0.643992      0.617875         0  \n",
       "4664          -0.622067     -1.926839         0  \n",
       "6741          -0.682550     -1.765013         0  "
      ]
     },
     "execution_count": 33,
     "metadata": {},
     "output_type": "execute_result"
    }
   ],
   "source": [
    "test_ok_std.head()"
   ]
  },
  {
   "cell_type": "code",
   "execution_count": 34,
   "metadata": {},
   "outputs": [
    {
     "data": {
      "text/plain": [
       "RandomForestClassifier(max_depth=4, min_samples_split=10, oob_score=True)"
      ]
     },
     "execution_count": 34,
     "metadata": {},
     "output_type": "execute_result"
    }
   ],
   "source": [
    "rf_std_class = RandomForestClassifier(max_depth=4, min_samples_split=10,n_estimators=100, bootstrap=True, oob_score=True)\n",
    "rf_std_class.fit(train_ok_std, cible)"
   ]
  },
  {
   "cell_type": "code",
   "execution_count": 35,
   "metadata": {},
   "outputs": [],
   "source": [
    "predict_rf_std = rf_std_class.predict_proba(test_ok_std)"
   ]
  },
  {
   "cell_type": "code",
   "execution_count": 36,
   "metadata": {},
   "outputs": [],
   "source": [
    "test_ok_std_reset = test_ok_std.reset_index()\n",
    "test_ok_reset = test_ok.reset_index()\n",
    "\n",
    "submission = pd.DataFrame({\n",
    "    'Id': test_ok_std_reset.id_client,\n",
    "    'Expected': predict_rf_std[:, 1]\n",
    "})\n",
    "\n",
    "submission.to_csv('submission_nb.csv', index = False, sep = ',', decimal = '.')"
   ]
  },
  {
   "cell_type": "code",
   "execution_count": 37,
   "metadata": {},
   "outputs": [],
   "source": [
    "submission = submission.sort_values('Expected')"
   ]
  },
  {
   "cell_type": "code",
   "execution_count": 38,
   "metadata": {},
   "outputs": [
    {
     "data": {
      "text/plain": [
       "<AxesSubplot:xlabel='Expected', ylabel='Count'>"
      ]
     },
     "execution_count": 38,
     "metadata": {},
     "output_type": "execute_result"
    },
    {
     "data": {
      "image/png": "[encoded data removed]",
      "text/plain": [
       "<Figure size 432x288 with 1 Axes>"
      ]
     },
     "metadata": {
      "needs_background": "light"
     },
     "output_type": "display_data"
    }
   ],
   "source": [
    "last_ind = int(submission.shape[0]*0.10)\n",
    "last_ind\n",
    "last10 = submission[-last_ind:]\n",
    "sns.histplot(last10[\"Expected\"])"
   ]
  },
  {
   "cell_type": "code",
   "execution_count": 39,
   "metadata": {},
   "outputs": [
    {
     "data": {
      "text/html": [
       "<div>\n",
       "<style scoped>\n",
       "    .dataframe tbody tr th:only-of-type {\n",
       "        vertical-align: middle;\n",
       "    }\n",
       "\n",
       "    .dataframe tbody tr th {\n",
       "        vertical-align: top;\n",
       "    }\n",
       "\n",
       "    .dataframe thead th {\n",
       "        text-align: right;\n",
       "    }\n",
       "</style>\n",
       "<table border=\"1\" class=\"dataframe\">\n",
       "  <thead>\n",
       "    <tr style=\"text-align: right;\">\n",
       "      <th></th>\n",
       "      <th>Id</th>\n",
       "      <th>Expected</th>\n",
       "    </tr>\n",
       "  </thead>\n",
       "  <tbody>\n",
       "    <tr>\n",
       "      <th>34256</th>\n",
       "      <td>82616753</td>\n",
       "      <td>0.180498</td>\n",
       "    </tr>\n",
       "    <tr>\n",
       "      <th>33691</th>\n",
       "      <td>81934812</td>\n",
       "      <td>0.180545</td>\n",
       "    </tr>\n",
       "    <tr>\n",
       "      <th>21281</th>\n",
       "      <td>34958900</td>\n",
       "      <td>0.180552</td>\n",
       "    </tr>\n",
       "    <tr>\n",
       "      <th>28464</th>\n",
       "      <td>38613876</td>\n",
       "      <td>0.180565</td>\n",
       "    </tr>\n",
       "    <tr>\n",
       "      <th>6713</th>\n",
       "      <td>11340499</td>\n",
       "      <td>0.180605</td>\n",
       "    </tr>\n",
       "    <tr>\n",
       "      <th>...</th>\n",
       "      <td>...</td>\n",
       "      <td>...</td>\n",
       "    </tr>\n",
       "    <tr>\n",
       "      <th>35566</th>\n",
       "      <td>84188558</td>\n",
       "      <td>0.425448</td>\n",
       "    </tr>\n",
       "    <tr>\n",
       "      <th>4608</th>\n",
       "      <td>8175046</td>\n",
       "      <td>0.425522</td>\n",
       "    </tr>\n",
       "    <tr>\n",
       "      <th>1514</th>\n",
       "      <td>3986580</td>\n",
       "      <td>0.426765</td>\n",
       "    </tr>\n",
       "    <tr>\n",
       "      <th>10363</th>\n",
       "      <td>18759170</td>\n",
       "      <td>0.427863</td>\n",
       "    </tr>\n",
       "    <tr>\n",
       "      <th>19966</th>\n",
       "      <td>34036112</td>\n",
       "      <td>0.434734</td>\n",
       "    </tr>\n",
       "  </tbody>\n",
       "</table>\n",
       "<p>4010 rows × 2 columns</p>\n",
       "</div>"
      ],
      "text/plain": [
       "             Id  Expected\n",
       "34256  82616753  0.180498\n",
       "33691  81934812  0.180545\n",
       "21281  34958900  0.180552\n",
       "28464  38613876  0.180565\n",
       "6713   11340499  0.180605\n",
       "...         ...       ...\n",
       "35566  84188558  0.425448\n",
       "4608    8175046  0.425522\n",
       "1514    3986580  0.426765\n",
       "10363  18759170  0.427863\n",
       "19966  34036112  0.434734\n",
       "\n",
       "[4010 rows x 2 columns]"
      ]
     },
     "execution_count": 39,
     "metadata": {},
     "output_type": "execute_result"
    }
   ],
   "source": [
    "last10"
   ]
  },
  {
   "cell_type": "code",
   "execution_count": 40,
   "metadata": {},
   "outputs": [
    {
     "data": {
      "text/html": [
       "<div>\n",
       "<style scoped>\n",
       "    .dataframe tbody tr th:only-of-type {\n",
       "        vertical-align: middle;\n",
       "    }\n",
       "\n",
       "    .dataframe tbody tr th {\n",
       "        vertical-align: top;\n",
       "    }\n",
       "\n",
       "    .dataframe thead th {\n",
       "        text-align: right;\n",
       "    }\n",
       "</style>\n",
       "<table border=\"1\" class=\"dataframe\">\n",
       "  <thead>\n",
       "    <tr style=\"text-align: right;\">\n",
       "      <th></th>\n",
       "      <th>id_client</th>\n",
       "      <th>last_visit</th>\n",
       "      <th>nb_purchases</th>\n",
       "      <th>item_count</th>\n",
       "      <th>gross_amount</th>\n",
       "      <th>discount_amount</th>\n",
       "      <th>basket_value</th>\n",
       "      <th>payment_gift</th>\n",
       "      <th>payment_cheque</th>\n",
       "      <th>payment_cash</th>\n",
       "      <th>payment_card</th>\n",
       "      <th>card_sub</th>\n",
       "      <th>Customers class</th>\n",
       "    </tr>\n",
       "  </thead>\n",
       "  <tbody>\n",
       "    <tr>\n",
       "      <th>1</th>\n",
       "      <td>3399</td>\n",
       "      <td>0</td>\n",
       "      <td>103</td>\n",
       "      <td>13.320388</td>\n",
       "      <td>41.607476</td>\n",
       "      <td>0.554466</td>\n",
       "      <td>41.053010</td>\n",
       "      <td>0.009709</td>\n",
       "      <td>0.155340</td>\n",
       "      <td>0.077670</td>\n",
       "      <td>0.786408</td>\n",
       "      <td>0</td>\n",
       "      <td>top customers</td>\n",
       "    </tr>\n",
       "    <tr>\n",
       "      <th>2</th>\n",
       "      <td>3712</td>\n",
       "      <td>2</td>\n",
       "      <td>80</td>\n",
       "      <td>10.425000</td>\n",
       "      <td>27.929625</td>\n",
       "      <td>2.447250</td>\n",
       "      <td>25.482375</td>\n",
       "      <td>0.012500</td>\n",
       "      <td>0.000000</td>\n",
       "      <td>0.012500</td>\n",
       "      <td>0.925000</td>\n",
       "      <td>0</td>\n",
       "      <td>top customers</td>\n",
       "    </tr>\n",
       "    <tr>\n",
       "      <th>3</th>\n",
       "      <td>4664</td>\n",
       "      <td>3</td>\n",
       "      <td>51</td>\n",
       "      <td>15.470588</td>\n",
       "      <td>39.142745</td>\n",
       "      <td>0.985686</td>\n",
       "      <td>38.157059</td>\n",
       "      <td>0.039216</td>\n",
       "      <td>0.980392</td>\n",
       "      <td>0.019608</td>\n",
       "      <td>0.000000</td>\n",
       "      <td>0</td>\n",
       "      <td>top customers</td>\n",
       "    </tr>\n",
       "    <tr>\n",
       "      <th>5</th>\n",
       "      <td>6951</td>\n",
       "      <td>0</td>\n",
       "      <td>203</td>\n",
       "      <td>10.743842</td>\n",
       "      <td>32.729852</td>\n",
       "      <td>7.486207</td>\n",
       "      <td>25.243645</td>\n",
       "      <td>0.113300</td>\n",
       "      <td>0.000000</td>\n",
       "      <td>0.000000</td>\n",
       "      <td>0.975369</td>\n",
       "      <td>1</td>\n",
       "      <td>top customers</td>\n",
       "    </tr>\n",
       "    <tr>\n",
       "      <th>6</th>\n",
       "      <td>8154</td>\n",
       "      <td>0</td>\n",
       "      <td>57</td>\n",
       "      <td>25.929825</td>\n",
       "      <td>76.648070</td>\n",
       "      <td>5.698596</td>\n",
       "      <td>70.949474</td>\n",
       "      <td>0.105263</td>\n",
       "      <td>0.000000</td>\n",
       "      <td>0.017544</td>\n",
       "      <td>0.982456</td>\n",
       "      <td>0</td>\n",
       "      <td>top customers</td>\n",
       "    </tr>\n",
       "    <tr>\n",
       "      <th>...</th>\n",
       "      <td>...</td>\n",
       "      <td>...</td>\n",
       "      <td>...</td>\n",
       "      <td>...</td>\n",
       "      <td>...</td>\n",
       "      <td>...</td>\n",
       "      <td>...</td>\n",
       "      <td>...</td>\n",
       "      <td>...</td>\n",
       "      <td>...</td>\n",
       "      <td>...</td>\n",
       "      <td>...</td>\n",
       "      <td>...</td>\n",
       "    </tr>\n",
       "    <tr>\n",
       "      <th>40074</th>\n",
       "      <td>87995575</td>\n",
       "      <td>0</td>\n",
       "      <td>80</td>\n",
       "      <td>24.337500</td>\n",
       "      <td>74.135875</td>\n",
       "      <td>5.689875</td>\n",
       "      <td>68.446000</td>\n",
       "      <td>0.025000</td>\n",
       "      <td>0.687500</td>\n",
       "      <td>0.087500</td>\n",
       "      <td>0.225000</td>\n",
       "      <td>0</td>\n",
       "      <td>top customers</td>\n",
       "    </tr>\n",
       "    <tr>\n",
       "      <th>40082</th>\n",
       "      <td>87999756</td>\n",
       "      <td>4</td>\n",
       "      <td>87</td>\n",
       "      <td>28.436782</td>\n",
       "      <td>97.011494</td>\n",
       "      <td>10.654368</td>\n",
       "      <td>86.357126</td>\n",
       "      <td>0.126437</td>\n",
       "      <td>0.000000</td>\n",
       "      <td>0.068966</td>\n",
       "      <td>0.045977</td>\n",
       "      <td>0</td>\n",
       "      <td>top customers</td>\n",
       "    </tr>\n",
       "    <tr>\n",
       "      <th>40086</th>\n",
       "      <td>88001095</td>\n",
       "      <td>2</td>\n",
       "      <td>66</td>\n",
       "      <td>24.075758</td>\n",
       "      <td>70.606515</td>\n",
       "      <td>2.971061</td>\n",
       "      <td>67.635455</td>\n",
       "      <td>0.045455</td>\n",
       "      <td>0.015152</td>\n",
       "      <td>0.015152</td>\n",
       "      <td>0.969697</td>\n",
       "      <td>0</td>\n",
       "      <td>top customers</td>\n",
       "    </tr>\n",
       "    <tr>\n",
       "      <th>40090</th>\n",
       "      <td>88001678</td>\n",
       "      <td>6</td>\n",
       "      <td>60</td>\n",
       "      <td>31.250000</td>\n",
       "      <td>107.835500</td>\n",
       "      <td>20.582833</td>\n",
       "      <td>87.252667</td>\n",
       "      <td>0.516667</td>\n",
       "      <td>0.000000</td>\n",
       "      <td>0.000000</td>\n",
       "      <td>0.983333</td>\n",
       "      <td>0</td>\n",
       "      <td>top customers</td>\n",
       "    </tr>\n",
       "    <tr>\n",
       "      <th>40100</th>\n",
       "      <td>88007870</td>\n",
       "      <td>0</td>\n",
       "      <td>76</td>\n",
       "      <td>14.671053</td>\n",
       "      <td>41.848421</td>\n",
       "      <td>3.351842</td>\n",
       "      <td>38.496579</td>\n",
       "      <td>0.065789</td>\n",
       "      <td>0.000000</td>\n",
       "      <td>0.000000</td>\n",
       "      <td>1.000000</td>\n",
       "      <td>0</td>\n",
       "      <td>top customers</td>\n",
       "    </tr>\n",
       "  </tbody>\n",
       "</table>\n",
       "<p>4010 rows × 13 columns</p>\n",
       "</div>"
      ],
      "text/plain": [
       "       id_client  last_visit  nb_purchases  item_count  gross_amount  \\\n",
       "1           3399           0           103   13.320388     41.607476   \n",
       "2           3712           2            80   10.425000     27.929625   \n",
       "3           4664           3            51   15.470588     39.142745   \n",
       "5           6951           0           203   10.743842     32.729852   \n",
       "6           8154           0            57   25.929825     76.648070   \n",
       "...          ...         ...           ...         ...           ...   \n",
       "40074   87995575           0            80   24.337500     74.135875   \n",
       "40082   87999756           4            87   28.436782     97.011494   \n",
       "40086   88001095           2            66   24.075758     70.606515   \n",
       "40090   88001678           6            60   31.250000    107.835500   \n",
       "40100   88007870           0            76   14.671053     41.848421   \n",
       "\n",
       "       discount_amount  basket_value  payment_gift  payment_cheque  \\\n",
       "1             0.554466     41.053010      0.009709        0.155340   \n",
       "2             2.447250     25.482375      0.012500        0.000000   \n",
       "3             0.985686     38.157059      0.039216        0.980392   \n",
       "5             7.486207     25.243645      0.113300        0.000000   \n",
       "6             5.698596     70.949474      0.105263        0.000000   \n",
       "...                ...           ...           ...             ...   \n",
       "40074         5.689875     68.446000      0.025000        0.687500   \n",
       "40082        10.654368     86.357126      0.126437        0.000000   \n",
       "40086         2.971061     67.635455      0.045455        0.015152   \n",
       "40090        20.582833     87.252667      0.516667        0.000000   \n",
       "40100         3.351842     38.496579      0.065789        0.000000   \n",
       "\n",
       "       payment_cash  payment_card  card_sub Customers class  \n",
       "1          0.077670      0.786408         0   top customers  \n",
       "2          0.012500      0.925000         0   top customers  \n",
       "3          0.019608      0.000000         0   top customers  \n",
       "5          0.000000      0.975369         1   top customers  \n",
       "6          0.017544      0.982456         0   top customers  \n",
       "...             ...           ...       ...             ...  \n",
       "40074      0.087500      0.225000         0   top customers  \n",
       "40082      0.068966      0.045977         0   top customers  \n",
       "40086      0.015152      0.969697         0   top customers  \n",
       "40090      0.000000      0.983333         0   top customers  \n",
       "40100      0.000000      1.000000         0   top customers  \n",
       "\n",
       "[4010 rows x 13 columns]"
      ]
     },
     "execution_count": 40,
     "metadata": {},
     "output_type": "execute_result"
    }
   ],
   "source": [
    "test_ok_reset[\"Customers class\"] = np.where(test_ok_reset.id_client.isin(last10[\"Id\"]) , 'top customers', 'else')\n",
    "test_ok_reset[test_ok_reset[\"Customers class\"]=='top customers']"
   ]
  },
  {
   "cell_type": "code",
   "execution_count": 41,
   "metadata": {},
   "outputs": [
    {
     "data": {
      "text/plain": [
       "[(0.0, 200.0)]"
      ]
     },
     "execution_count": 41,
     "metadata": {},
     "output_type": "execute_result"
    },
    {
     "data": {
      "image/png": "[encoded data removed]",
      "text/plain": [
       "<Figure size 432x288 with 1 Axes>"
      ]
     },
     "metadata": {
      "needs_background": "light"
     },
     "output_type": "display_data"
    }
   ],
   "source": [
    "g =sns.kdeplot(data=test_ok_reset, x=\"item_count\", hue=\"Customers class\", cut=0, fill=False, common_norm=False, alpha=1)\n",
    "g.set(xlim=(0, 200))"
   ]
  },
  {
   "cell_type": "code",
   "execution_count": 42,
   "metadata": {},
   "outputs": [
    {
     "data": {
      "text/plain": [
       "[(0.0, 200.0)]"
      ]
     },
     "execution_count": 42,
     "metadata": {},
     "output_type": "execute_result"
    },
    {
     "data": {
      "image/png": "[encoded data removed]",
      "text/plain": [
       "<Figure size 432x288 with 1 Axes>"
      ]
     },
     "metadata": {
      "needs_background": "light"
     },
     "output_type": "display_data"
    }
   ],
   "source": [
    "g = sns.kdeplot(data=test_ok_reset, x=\"gross_amount\", hue=\"Customers class\", cut=0, fill=False, common_norm=False, alpha=1)\n",
    "g.set(xlim=(0, 200))"
   ]
  },
  {
   "cell_type": "code",
   "execution_count": 43,
   "metadata": {},
   "outputs": [
    {
     "data": {
      "text/plain": [
       "[(0.0, 200.0)]"
      ]
     },
     "execution_count": 43,
     "metadata": {},
     "output_type": "execute_result"
    },
    {
     "data": {
      "image/png": "[encoded data removed]",
      "text/plain": [
       "<Figure size 432x288 with 1 Axes>"
      ]
     },
     "metadata": {
      "needs_background": "light"
     },
     "output_type": "display_data"
    }
   ],
   "source": [
    "g =sns.kdeplot(data=test_ok_reset, x=\"basket_value\", hue=\"Customers class\", cut=0, fill=False, common_norm=False, alpha=1)\n",
    "g.set(xlim=(0, 200))"
   ]
  },
  {
   "cell_type": "code",
   "execution_count": 44,
   "metadata": {},
   "outputs": [
    {
     "data": {
      "text/plain": [
       "[(0.0, 50.0)]"
      ]
     },
     "execution_count": 44,
     "metadata": {},
     "output_type": "execute_result"
    },
    {
     "data": {
      "image/png": "[encoded data removed]",
      "text/plain": [
       "<Figure size 432x288 with 1 Axes>"
      ]
     },
     "metadata": {
      "needs_background": "light"
     },
     "output_type": "display_data"
    }
   ],
   "source": [
    "g = sns.kdeplot(data=test_ok_reset, x=\"discount_amount\", hue=\"Customers class\", cut=0, fill=False, common_norm=False, alpha=1)\n",
    "g.set(xlim=(0, 25))"
   ]
  },
  {
   "cell_type": "code",
   "execution_count": 45,
   "metadata": {},
   "outputs": [
    {
     "data": {
      "text/plain": [
       "<AxesSubplot:xlabel='payment_card', ylabel='Density'>"
      ]
     },
     "execution_count": 45,
     "metadata": {},
     "output_type": "execute_result"
    },
    {
     "data": {
      "image/png": "[encoded data removed]",
      "text/plain": [
       "<Figure size 432x288 with 1 Axes>"
      ]
     },
     "metadata": {
      "needs_background": "light"
     },
     "output_type": "display_data"
    }
   ],
   "source": [
    "g = sns.kdeplot(data=test_ok_reset, x=\"payment_card\", hue=\"Customers class\", cut=0, fill=False, common_norm=False, alpha=1)\n",
    "g"
   ]
  },
  {
   "cell_type": "code",
   "execution_count": 46,
   "metadata": {},
   "outputs": [
    {
     "data": {
      "text/plain": [
       "<AxesSubplot:xlabel='payment_gift', ylabel='Density'>"
      ]
     },
     "execution_count": 46,
     "metadata": {},
     "output_type": "execute_result"
    },
    {
     "data": {
      "image/png": "[encoded data removed]",
      "text/plain": [
       "<Figure size 432x288 with 1 Axes>"
      ]
     },
     "metadata": {
      "needs_background": "light"
     },
     "output_type": "display_data"
    }
   ],
   "source": [
    "g = sns.kdeplot(data=test_ok_reset, x=\"payment_gift\", hue=\"Customers class\", cut=0, fill=False, common_norm=False, alpha=1)\n",
    "g"
   ]
  },
  {
   "cell_type": "code",
   "execution_count": 47,
   "metadata": {},
   "outputs": [
    {
     "data": {
      "text/plain": [
       "[(0.0, 250.0)]"
      ]
     },
     "execution_count": 47,
     "metadata": {},
     "output_type": "execute_result"
    },
    {
     "data": {
      "image/png": "[encoded data removed]",
      "text/plain": [
       "<Figure size 432x288 with 1 Axes>"
      ]
     },
     "metadata": {
      "needs_background": "light"
     },
     "output_type": "display_data"
    }
   ],
   "source": [
    "g = sns.kdeplot(data=test_ok_reset, x=\"nb_purchases\", hue=\"Customers class\", cut=0, fill=False, common_norm=False, alpha=1)\n",
    "g.set(xlim=(0, 250))"
   ]
  },
  {
   "cell_type": "code",
   "execution_count": 50,
   "metadata": {},
   "outputs": [
    {
     "data": {
      "text/plain": [
       "<AxesSubplot:xlabel='card_sub', ylabel='discount_amount'>"
      ]
     },
     "execution_count": 50,
     "metadata": {},
     "output_type": "execute_result"
    },
    {
     "data": {
      "image/png": "[encoded data removed]",
      "text/plain": [
       "<Figure size 432x288 with 1 Axes>"
      ]
     },
     "metadata": {
      "needs_background": "light"
     },
     "output_type": "display_data"
    }
   ],
   "source": [
    "sns.barplot(data=test_ok_reset, x=\"card_sub\", y=\"discount_amount\", hue=\"Customers class\")"
   ]
  },
  {
   "cell_type": "code",
   "execution_count": null,
   "metadata": {},
   "outputs": [],
   "source": []
  }
 ],
 "metadata": {
  "kernelspec": {
   "display_name": "Python 3",
   "language": "python",
   "name": "python3"
  },
  "language_info": {
   "codemirror_mode": {
    "name": "ipython",
    "version": 3
   },
   "file_extension": ".py",
   "mimetype": "text/x-python",
   "name": "python",
   "nbconvert_exporter": "python",
   "pygments_lexer": "ipython3",
   "version": "3.8.5"
  }
 },
 "nbformat": 4,
 "nbformat_minor": 4
}
